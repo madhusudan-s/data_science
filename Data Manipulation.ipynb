{
 "cells": [
  {
   "cell_type": "code",
   "execution_count": 1,
   "metadata": {},
   "outputs": [
    {
     "name": "stderr",
     "output_type": "stream",
     "text": [
      "C:\\Users\\Madhu-PC\\Anaconda3\\lib\\site-packages\\IPython\\core\\interactiveshell.py:3057: DtypeWarning: Columns (4,61,62,66,116,117,123) have mixed types. Specify dtype option on import or set low_memory=False.\n",
      "  interactivity=interactivity, compiler=compiler, result=result)\n"
     ]
    },
    {
     "data": {
      "text/html": [
       "<div>\n",
       "<style scoped>\n",
       "    .dataframe tbody tr th:only-of-type {\n",
       "        vertical-align: middle;\n",
       "    }\n",
       "\n",
       "    .dataframe tbody tr th {\n",
       "        vertical-align: top;\n",
       "    }\n",
       "\n",
       "    .dataframe thead th {\n",
       "        text-align: right;\n",
       "    }\n",
       "</style>\n",
       "<table border=\"1\" class=\"dataframe\">\n",
       "  <thead>\n",
       "    <tr style=\"text-align: right;\">\n",
       "      <th></th>\n",
       "      <th>suicide</th>\n",
       "      <th>success</th>\n",
       "    </tr>\n",
       "  </thead>\n",
       "  <tbody>\n",
       "    <tr>\n",
       "      <th>0</th>\n",
       "      <td>0</td>\n",
       "      <td>1</td>\n",
       "    </tr>\n",
       "    <tr>\n",
       "      <th>1</th>\n",
       "      <td>0</td>\n",
       "      <td>1</td>\n",
       "    </tr>\n",
       "    <tr>\n",
       "      <th>2</th>\n",
       "      <td>0</td>\n",
       "      <td>1</td>\n",
       "    </tr>\n",
       "    <tr>\n",
       "      <th>3</th>\n",
       "      <td>0</td>\n",
       "      <td>1</td>\n",
       "    </tr>\n",
       "    <tr>\n",
       "      <th>4</th>\n",
       "      <td>0</td>\n",
       "      <td>1</td>\n",
       "    </tr>\n",
       "  </tbody>\n",
       "</table>\n",
       "</div>"
      ],
      "text/plain": [
       "   suicide  success\n",
       "0        0        1\n",
       "1        0        1\n",
       "2        0        1\n",
       "3        0        1\n",
       "4        0        1"
      ]
     },
     "execution_count": 1,
     "metadata": {},
     "output_type": "execute_result"
    }
   ],
   "source": [
    "import pandas as pd\n",
    "from pandas import Series,DataFrame\n",
    "import numpy as np\n",
    "\n",
    "import os\n",
    "\n",
    "data=pd.read_csv(\"C:/PyProj/terror.csv\",header=0,sep=',',na_values=[''],encoding=\"latin\")\n",
    "data.head()"
   ]
  },
  {
   "cell_type": "code",
   "execution_count": 3,
   "metadata": {},
   "outputs": [
    {
     "data": {
      "text/plain": [
       "9940"
      ]
     },
     "execution_count": 3,
     "metadata": {},
     "output_type": "execute_result"
    }
   ],
   "source": [
    "data.query(\"country_txt=='India'\").shape[0]"
   ]
  },
  {
   "cell_type": "code",
   "execution_count": 4,
   "metadata": {},
   "outputs": [
    {
     "data": {
      "text/plain": [
       "8362"
      ]
     },
     "execution_count": 4,
     "metadata": {},
     "output_type": "execute_result"
    }
   ],
   "source": [
    "data.query(\"country_txt=='India' and nkill<=3\").shape[0]"
   ]
  },
  {
   "cell_type": "code",
   "execution_count": 10,
   "metadata": {},
   "outputs": [
    {
     "data": {
      "text/html": [
       "<div>\n",
       "<style scoped>\n",
       "    .dataframe tbody tr th:only-of-type {\n",
       "        vertical-align: middle;\n",
       "    }\n",
       "\n",
       "    .dataframe tbody tr th {\n",
       "        vertical-align: top;\n",
       "    }\n",
       "\n",
       "    .dataframe thead th {\n",
       "        text-align: right;\n",
       "    }\n",
       "</style>\n",
       "<table border=\"1\" class=\"dataframe\">\n",
       "  <thead>\n",
       "    <tr style=\"text-align: right;\">\n",
       "      <th></th>\n",
       "      <th>city</th>\n",
       "      <th>summary</th>\n",
       "    </tr>\n",
       "  </thead>\n",
       "  <tbody>\n",
       "    <tr>\n",
       "      <th>1185</th>\n",
       "      <td>New Delhi</td>\n",
       "      <td>NaN</td>\n",
       "    </tr>\n",
       "    <tr>\n",
       "      <th>3780</th>\n",
       "      <td>New Delhi</td>\n",
       "      <td>NaN</td>\n",
       "    </tr>\n",
       "    <tr>\n",
       "      <th>5251</th>\n",
       "      <td>Bombay</td>\n",
       "      <td>NaN</td>\n",
       "    </tr>\n",
       "    <tr>\n",
       "      <th>7266</th>\n",
       "      <td>Imphal</td>\n",
       "      <td>NaN</td>\n",
       "    </tr>\n",
       "    <tr>\n",
       "      <th>8609</th>\n",
       "      <td>Unknown</td>\n",
       "      <td>NaN</td>\n",
       "    </tr>\n",
       "    <tr>\n",
       "      <th>8755</th>\n",
       "      <td>Unknown</td>\n",
       "      <td>NaN</td>\n",
       "    </tr>\n",
       "    <tr>\n",
       "      <th>8977</th>\n",
       "      <td>Amapur</td>\n",
       "      <td>NaN</td>\n",
       "    </tr>\n",
       "    <tr>\n",
       "      <th>9037</th>\n",
       "      <td>Raisikah</td>\n",
       "      <td>NaN</td>\n",
       "    </tr>\n",
       "    <tr>\n",
       "      <th>9040</th>\n",
       "      <td>Champhai</td>\n",
       "      <td>NaN</td>\n",
       "    </tr>\n",
       "    <tr>\n",
       "      <th>9070</th>\n",
       "      <td>Aizawl</td>\n",
       "      <td>NaN</td>\n",
       "    </tr>\n",
       "    <tr>\n",
       "      <th>9072</th>\n",
       "      <td>Jamshedpur</td>\n",
       "      <td>NaN</td>\n",
       "    </tr>\n",
       "    <tr>\n",
       "      <th>9081</th>\n",
       "      <td>New Delhi</td>\n",
       "      <td>NaN</td>\n",
       "    </tr>\n",
       "    <tr>\n",
       "      <th>9082</th>\n",
       "      <td>New Delhi</td>\n",
       "      <td>NaN</td>\n",
       "    </tr>\n",
       "    <tr>\n",
       "      <th>9090</th>\n",
       "      <td>Jamshedpur</td>\n",
       "      <td>NaN</td>\n",
       "    </tr>\n",
       "    <tr>\n",
       "      <th>9137</th>\n",
       "      <td>Chennai</td>\n",
       "      <td>NaN</td>\n",
       "    </tr>\n",
       "    <tr>\n",
       "      <th>9691</th>\n",
       "      <td>Unknown</td>\n",
       "      <td>NaN</td>\n",
       "    </tr>\n",
       "    <tr>\n",
       "      <th>9732</th>\n",
       "      <td>Unknown</td>\n",
       "      <td>NaN</td>\n",
       "    </tr>\n",
       "    <tr>\n",
       "      <th>9801</th>\n",
       "      <td>Unknown</td>\n",
       "      <td>NaN</td>\n",
       "    </tr>\n",
       "    <tr>\n",
       "      <th>9841</th>\n",
       "      <td>Imphal</td>\n",
       "      <td>NaN</td>\n",
       "    </tr>\n",
       "    <tr>\n",
       "      <th>9887</th>\n",
       "      <td>Unknown</td>\n",
       "      <td>NaN</td>\n",
       "    </tr>\n",
       "    <tr>\n",
       "      <th>10407</th>\n",
       "      <td>Chiaplant</td>\n",
       "      <td>NaN</td>\n",
       "    </tr>\n",
       "    <tr>\n",
       "      <th>10522</th>\n",
       "      <td>Calcutta</td>\n",
       "      <td>NaN</td>\n",
       "    </tr>\n",
       "    <tr>\n",
       "      <th>10744</th>\n",
       "      <td>New Delhi</td>\n",
       "      <td>NaN</td>\n",
       "    </tr>\n",
       "    <tr>\n",
       "      <th>12187</th>\n",
       "      <td>Unknown</td>\n",
       "      <td>NaN</td>\n",
       "    </tr>\n",
       "    <tr>\n",
       "      <th>12391</th>\n",
       "      <td>Unknown</td>\n",
       "      <td>NaN</td>\n",
       "    </tr>\n",
       "    <tr>\n",
       "      <th>12439</th>\n",
       "      <td>Unknown</td>\n",
       "      <td>NaN</td>\n",
       "    </tr>\n",
       "    <tr>\n",
       "      <th>13049</th>\n",
       "      <td>Gauhati</td>\n",
       "      <td>NaN</td>\n",
       "    </tr>\n",
       "    <tr>\n",
       "      <th>13177</th>\n",
       "      <td>Jorhat</td>\n",
       "      <td>NaN</td>\n",
       "    </tr>\n",
       "    <tr>\n",
       "      <th>13300</th>\n",
       "      <td>Unknown</td>\n",
       "      <td>NaN</td>\n",
       "    </tr>\n",
       "    <tr>\n",
       "      <th>13875</th>\n",
       "      <td>Unknown</td>\n",
       "      <td>NaN</td>\n",
       "    </tr>\n",
       "    <tr>\n",
       "      <th>...</th>\n",
       "      <td>...</td>\n",
       "      <td>...</td>\n",
       "    </tr>\n",
       "    <tr>\n",
       "      <th>156156</th>\n",
       "      <td>Dariyakona</td>\n",
       "      <td>12/15/2015: Assailants abducted Baghel Gond fr...</td>\n",
       "    </tr>\n",
       "    <tr>\n",
       "      <th>156176</th>\n",
       "      <td>Awapalli</td>\n",
       "      <td>12/15/2015: An explosive device detonated in A...</td>\n",
       "    </tr>\n",
       "    <tr>\n",
       "      <th>156243</th>\n",
       "      <td>Srinagar</td>\n",
       "      <td>12/17/2015: Assailants fired a rifle grenade a...</td>\n",
       "    </tr>\n",
       "    <tr>\n",
       "      <th>156248</th>\n",
       "      <td>Imphal</td>\n",
       "      <td>12/17/2015: An explosive device detonated in D...</td>\n",
       "    </tr>\n",
       "    <tr>\n",
       "      <th>156249</th>\n",
       "      <td>Williamnagar</td>\n",
       "      <td>12/17/2015: Assailants threw a grenade at a st...</td>\n",
       "    </tr>\n",
       "    <tr>\n",
       "      <th>156292</th>\n",
       "      <td>Pookottumpadam</td>\n",
       "      <td>12/18/2015: Assailants attacked an Indian Fore...</td>\n",
       "    </tr>\n",
       "    <tr>\n",
       "      <th>156314</th>\n",
       "      <td>Kalia Atala</td>\n",
       "      <td>12/19/2015: Assailants torched an Airtel cell ...</td>\n",
       "    </tr>\n",
       "    <tr>\n",
       "      <th>156339</th>\n",
       "      <td>Chipakur</td>\n",
       "      <td>12/20/2015: Assailants torched an under-constr...</td>\n",
       "    </tr>\n",
       "    <tr>\n",
       "      <th>156340</th>\n",
       "      <td>Kakpora</td>\n",
       "      <td>12/20/2015: Assailants threw a grenade at the ...</td>\n",
       "    </tr>\n",
       "    <tr>\n",
       "      <th>156383</th>\n",
       "      <td>Bastar district</td>\n",
       "      <td>12/21/2015: Security forces arrested three ass...</td>\n",
       "    </tr>\n",
       "    <tr>\n",
       "      <th>156384</th>\n",
       "      <td>Madathakonda</td>\n",
       "      <td>12/21/2015: Assailants abducted and killed Van...</td>\n",
       "    </tr>\n",
       "    <tr>\n",
       "      <th>156385</th>\n",
       "      <td>Madathakonda</td>\n",
       "      <td>12/21/2015: Assailants beat a civilian in Mada...</td>\n",
       "    </tr>\n",
       "    <tr>\n",
       "      <th>156388</th>\n",
       "      <td>Badapokharia</td>\n",
       "      <td>12/21/2015: Assailants threw at least nine cru...</td>\n",
       "    </tr>\n",
       "    <tr>\n",
       "      <th>156389</th>\n",
       "      <td>Simra Nizamat</td>\n",
       "      <td>12/21/2015: Police discovered and defused two ...</td>\n",
       "    </tr>\n",
       "    <tr>\n",
       "      <th>156433</th>\n",
       "      <td>Imphal</td>\n",
       "      <td>12/22/2015: Assailants shot and killed a baker...</td>\n",
       "    </tr>\n",
       "    <tr>\n",
       "      <th>156458</th>\n",
       "      <td>Nilawaya</td>\n",
       "      <td>12/23/2015: Assailants abducted Hadma Ram, a f...</td>\n",
       "    </tr>\n",
       "    <tr>\n",
       "      <th>156459</th>\n",
       "      <td>Imphal</td>\n",
       "      <td>12/23/2015: An explosive device planted under ...</td>\n",
       "    </tr>\n",
       "    <tr>\n",
       "      <th>156483</th>\n",
       "      <td>Bijbehara</td>\n",
       "      <td>12/24/2015: Assailants opened fire on police p...</td>\n",
       "    </tr>\n",
       "    <tr>\n",
       "      <th>156499</th>\n",
       "      <td>Ramgarh</td>\n",
       "      <td>12/24/2015: Assailants detonated explosive dev...</td>\n",
       "    </tr>\n",
       "    <tr>\n",
       "      <th>156529</th>\n",
       "      <td>Badapadar</td>\n",
       "      <td>12/25/2015: Assailants attacked Jayaram Khara ...</td>\n",
       "    </tr>\n",
       "    <tr>\n",
       "      <th>156530</th>\n",
       "      <td>Kudumulgumma Raba</td>\n",
       "      <td>12/25/2015: Assailants attacked Sahdev Badanay...</td>\n",
       "    </tr>\n",
       "    <tr>\n",
       "      <th>156533</th>\n",
       "      <td>Sivasagar</td>\n",
       "      <td>12/25/2015: Security forces discovered and def...</td>\n",
       "    </tr>\n",
       "    <tr>\n",
       "      <th>156569</th>\n",
       "      <td>Pariya</td>\n",
       "      <td>12/26/2015: Assailants abducted Sujit Modiyami...</td>\n",
       "    </tr>\n",
       "    <tr>\n",
       "      <th>156612</th>\n",
       "      <td>Tillayya</td>\n",
       "      <td>12/26/2015: An assailant attempted to plant an...</td>\n",
       "    </tr>\n",
       "    <tr>\n",
       "      <th>156658</th>\n",
       "      <td>Mendhar</td>\n",
       "      <td>12/27/2015: An explosive device planted under ...</td>\n",
       "    </tr>\n",
       "    <tr>\n",
       "      <th>156695</th>\n",
       "      <td>Terem</td>\n",
       "      <td>12/29/2015: Assailants abducted three students...</td>\n",
       "    </tr>\n",
       "    <tr>\n",
       "      <th>156698</th>\n",
       "      <td>Peravurani</td>\n",
       "      <td>12/29/2015: An explosive device was discovered...</td>\n",
       "    </tr>\n",
       "    <tr>\n",
       "      <th>156713</th>\n",
       "      <td>Tulsibari</td>\n",
       "      <td>12/29/2015: Assailants abducted Hazrat Ali in ...</td>\n",
       "    </tr>\n",
       "    <tr>\n",
       "      <th>156725</th>\n",
       "      <td>Zhutovi</td>\n",
       "      <td>12/30/2015: Assailants attempted to extort mon...</td>\n",
       "    </tr>\n",
       "    <tr>\n",
       "      <th>156756</th>\n",
       "      <td>Srinagar</td>\n",
       "      <td>12/31/2015: Assailants threw a grenade at an I...</td>\n",
       "    </tr>\n",
       "  </tbody>\n",
       "</table>\n",
       "<p>8362 rows × 2 columns</p>\n",
       "</div>"
      ],
      "text/plain": [
       "                     city                                            summary\n",
       "1185            New Delhi                                                NaN\n",
       "3780            New Delhi                                                NaN\n",
       "5251               Bombay                                                NaN\n",
       "7266               Imphal                                                NaN\n",
       "8609              Unknown                                                NaN\n",
       "8755              Unknown                                                NaN\n",
       "8977               Amapur                                                NaN\n",
       "9037             Raisikah                                                NaN\n",
       "9040             Champhai                                                NaN\n",
       "9070               Aizawl                                                NaN\n",
       "9072           Jamshedpur                                                NaN\n",
       "9081            New Delhi                                                NaN\n",
       "9082            New Delhi                                                NaN\n",
       "9090           Jamshedpur                                                NaN\n",
       "9137              Chennai                                                NaN\n",
       "9691              Unknown                                                NaN\n",
       "9732              Unknown                                                NaN\n",
       "9801              Unknown                                                NaN\n",
       "9841               Imphal                                                NaN\n",
       "9887              Unknown                                                NaN\n",
       "10407           Chiaplant                                                NaN\n",
       "10522            Calcutta                                                NaN\n",
       "10744           New Delhi                                                NaN\n",
       "12187             Unknown                                                NaN\n",
       "12391             Unknown                                                NaN\n",
       "12439             Unknown                                                NaN\n",
       "13049             Gauhati                                                NaN\n",
       "13177              Jorhat                                                NaN\n",
       "13300             Unknown                                                NaN\n",
       "13875             Unknown                                                NaN\n",
       "...                   ...                                                ...\n",
       "156156         Dariyakona  12/15/2015: Assailants abducted Baghel Gond fr...\n",
       "156176           Awapalli  12/15/2015: An explosive device detonated in A...\n",
       "156243           Srinagar  12/17/2015: Assailants fired a rifle grenade a...\n",
       "156248             Imphal  12/17/2015: An explosive device detonated in D...\n",
       "156249       Williamnagar  12/17/2015: Assailants threw a grenade at a st...\n",
       "156292     Pookottumpadam  12/18/2015: Assailants attacked an Indian Fore...\n",
       "156314        Kalia Atala  12/19/2015: Assailants torched an Airtel cell ...\n",
       "156339           Chipakur  12/20/2015: Assailants torched an under-constr...\n",
       "156340            Kakpora  12/20/2015: Assailants threw a grenade at the ...\n",
       "156383    Bastar district  12/21/2015: Security forces arrested three ass...\n",
       "156384       Madathakonda  12/21/2015: Assailants abducted and killed Van...\n",
       "156385       Madathakonda  12/21/2015: Assailants beat a civilian in Mada...\n",
       "156388       Badapokharia  12/21/2015: Assailants threw at least nine cru...\n",
       "156389      Simra Nizamat  12/21/2015: Police discovered and defused two ...\n",
       "156433             Imphal  12/22/2015: Assailants shot and killed a baker...\n",
       "156458           Nilawaya  12/23/2015: Assailants abducted Hadma Ram, a f...\n",
       "156459             Imphal  12/23/2015: An explosive device planted under ...\n",
       "156483          Bijbehara  12/24/2015: Assailants opened fire on police p...\n",
       "156499            Ramgarh  12/24/2015: Assailants detonated explosive dev...\n",
       "156529          Badapadar  12/25/2015: Assailants attacked Jayaram Khara ...\n",
       "156530  Kudumulgumma Raba  12/25/2015: Assailants attacked Sahdev Badanay...\n",
       "156533          Sivasagar  12/25/2015: Security forces discovered and def...\n",
       "156569             Pariya  12/26/2015: Assailants abducted Sujit Modiyami...\n",
       "156612           Tillayya  12/26/2015: An assailant attempted to plant an...\n",
       "156658            Mendhar  12/27/2015: An explosive device planted under ...\n",
       "156695              Terem  12/29/2015: Assailants abducted three students...\n",
       "156698         Peravurani  12/29/2015: An explosive device was discovered...\n",
       "156713          Tulsibari  12/29/2015: Assailants abducted Hazrat Ali in ...\n",
       "156725            Zhutovi  12/30/2015: Assailants attempted to extort mon...\n",
       "156756           Srinagar  12/31/2015: Assailants threw a grenade at an I...\n",
       "\n",
       "[8362 rows x 2 columns]"
      ]
     },
     "execution_count": 10,
     "metadata": {},
     "output_type": "execute_result"
    }
   ],
   "source": [
    "data.query(\"country_txt=='India' and nkill<=3\")[['city','summary']]"
   ]
  },
  {
   "cell_type": "code",
   "execution_count": 20,
   "metadata": {},
   "outputs": [
    {
     "data": {
      "text/html": [
       "<div>\n",
       "<style scoped>\n",
       "    .dataframe tbody tr th:only-of-type {\n",
       "        vertical-align: middle;\n",
       "    }\n",
       "\n",
       "    .dataframe tbody tr th {\n",
       "        vertical-align: top;\n",
       "    }\n",
       "\n",
       "    .dataframe thead th {\n",
       "        text-align: right;\n",
       "    }\n",
       "</style>\n",
       "<table border=\"1\" class=\"dataframe\">\n",
       "  <thead>\n",
       "    <tr style=\"text-align: right;\">\n",
       "      <th></th>\n",
       "      <th>city</th>\n",
       "      <th>nkill</th>\n",
       "    </tr>\n",
       "  </thead>\n",
       "  <tbody>\n",
       "    <tr>\n",
       "      <th>81000</th>\n",
       "      <td>Mumbai</td>\n",
       "      <td>188.0</td>\n",
       "    </tr>\n",
       "    <tr>\n",
       "      <th>96598</th>\n",
       "      <td>Jhargam</td>\n",
       "      <td>115.0</td>\n",
       "    </tr>\n",
       "    <tr>\n",
       "      <th>54339</th>\n",
       "      <td>Bombay</td>\n",
       "      <td>115.0</td>\n",
       "    </tr>\n",
       "    <tr>\n",
       "      <th>95860</th>\n",
       "      <td>Dantewada district</td>\n",
       "      <td>82.0</td>\n",
       "    </tr>\n",
       "    <tr>\n",
       "      <th>56837</th>\n",
       "      <td>Banabari</td>\n",
       "      <td>70.0</td>\n",
       "    </tr>\n",
       "  </tbody>\n",
       "</table>\n",
       "</div>"
      ],
      "text/plain": [
       "                     city  nkill\n",
       "81000              Mumbai  188.0\n",
       "96598             Jhargam  115.0\n",
       "54339              Bombay  115.0\n",
       "95860  Dantewada district   82.0\n",
       "56837            Banabari   70.0"
      ]
     },
     "execution_count": 20,
     "metadata": {},
     "output_type": "execute_result"
    }
   ],
   "source": [
    "data.query(\"country_txt=='India'\")[[\"city\",\"nkill\"]].sort_values(\"nkill\",ascending=False).head()"
   ]
  },
  {
   "cell_type": "code",
   "execution_count": 18,
   "metadata": {},
   "outputs": [
    {
     "data": {
      "text/html": [
       "<div>\n",
       "<style scoped>\n",
       "    .dataframe tbody tr th:only-of-type {\n",
       "        vertical-align: middle;\n",
       "    }\n",
       "\n",
       "    .dataframe tbody tr th {\n",
       "        vertical-align: top;\n",
       "    }\n",
       "\n",
       "    .dataframe thead th {\n",
       "        text-align: right;\n",
       "    }\n",
       "</style>\n",
       "<table border=\"1\" class=\"dataframe\">\n",
       "  <thead>\n",
       "    <tr style=\"text-align: right;\">\n",
       "      <th></th>\n",
       "      <th>city</th>\n",
       "      <th>nkill</th>\n",
       "      <th>nwound</th>\n",
       "    </tr>\n",
       "  </thead>\n",
       "  <tbody>\n",
       "    <tr>\n",
       "      <th>81000</th>\n",
       "      <td>Mumbai</td>\n",
       "      <td>188.0</td>\n",
       "      <td>817.0</td>\n",
       "    </tr>\n",
       "    <tr>\n",
       "      <th>96598</th>\n",
       "      <td>Jhargam</td>\n",
       "      <td>115.0</td>\n",
       "      <td>140.0</td>\n",
       "    </tr>\n",
       "    <tr>\n",
       "      <th>54339</th>\n",
       "      <td>Bombay</td>\n",
       "      <td>115.0</td>\n",
       "      <td>0.0</td>\n",
       "    </tr>\n",
       "    <tr>\n",
       "      <th>95860</th>\n",
       "      <td>Dantewada district</td>\n",
       "      <td>82.0</td>\n",
       "      <td>0.0</td>\n",
       "    </tr>\n",
       "    <tr>\n",
       "      <th>56837</th>\n",
       "      <td>Banabari</td>\n",
       "      <td>70.0</td>\n",
       "      <td>100.0</td>\n",
       "    </tr>\n",
       "  </tbody>\n",
       "</table>\n",
       "</div>"
      ],
      "text/plain": [
       "                     city  nkill  nwound\n",
       "81000              Mumbai  188.0   817.0\n",
       "96598             Jhargam  115.0   140.0\n",
       "54339              Bombay  115.0     0.0\n",
       "95860  Dantewada district   82.0     0.0\n",
       "56837            Banabari   70.0   100.0"
      ]
     },
     "execution_count": 18,
     "metadata": {},
     "output_type": "execute_result"
    }
   ],
   "source": [
    "data.query(\"country_txt=='India'\")[['city','nkill','nwound']].sort_values(['nkill','nwound'],ascending=False).head()\n"
   ]
  },
  {
   "cell_type": "code",
   "execution_count": 15,
   "metadata": {},
   "outputs": [
    {
     "data": {
      "text/plain": [
       "4260"
      ]
     },
     "execution_count": 15,
     "metadata": {},
     "output_type": "execute_result"
    }
   ],
   "source": [
    "data.query(\"suicide==1 & success==1\").shape[0]"
   ]
  },
  {
   "cell_type": "code",
   "execution_count": 24,
   "metadata": {},
   "outputs": [],
   "source": [
    "label=(data[\"nkill\"]>5).map({True:\"Severe\",False:\"Not Severe\"})"
   ]
  },
  {
   "cell_type": "code",
   "execution_count": 26,
   "metadata": {},
   "outputs": [
    {
     "data": {
      "text/plain": [
       "0    Not Severe\n",
       "1    Not Severe\n",
       "2    Not Severe\n",
       "3    Not Severe\n",
       "4    Not Severe\n",
       "Name: nkill, dtype: object"
      ]
     },
     "execution_count": 26,
     "metadata": {},
     "output_type": "execute_result"
    }
   ],
   "source": [
    "label.head()"
   ]
  },
  {
   "cell_type": "code",
   "execution_count": 30,
   "metadata": {},
   "outputs": [],
   "source": [
    "def fun_label(x):\n",
    "    if (x[0]==1 & x[1]==1):\n",
    "        return True\n",
    "    else :\n",
    "        return False\n",
    "    \n",
    "label = data[[\"suicide\",\"success\"]].apply(fun_label,axis=1)"
   ]
  },
  {
   "cell_type": "code",
   "execution_count": 31,
   "metadata": {},
   "outputs": [
    {
     "data": {
      "text/plain": [
       "0    False\n",
       "1    False\n",
       "2    False\n",
       "3    False\n",
       "4    False\n",
       "dtype: bool"
      ]
     },
     "execution_count": 31,
     "metadata": {},
     "output_type": "execute_result"
    }
   ],
   "source": [
    "label.head()"
   ]
  },
  {
   "cell_type": "code",
   "execution_count": 5,
   "metadata": {},
   "outputs": [
    {
     "data": {
      "text/plain": [
       "0    ROW\n",
       "1    ROW\n",
       "2    ROW\n",
       "3    ROW\n",
       "4    ROW\n",
       "Name: Local, dtype: object"
      ]
     },
     "execution_count": 5,
     "metadata": {},
     "output_type": "execute_result"
    }
   ],
   "source": [
    "def fun_label(x):\n",
    "    if (x[0]==\"Afghanistan\" or  x[0]==\"Pakistan\" or x[0]==\"India\"):\n",
    "        return \"Asia\"\n",
    "    else :\n",
    "        return \"ROW\"\n",
    "    \n",
    "data['Local'] = data[[\"country_txt\"]].apply(fun_label,axis=1)\n",
    "data['Local'].head()"
   ]
  },
  {
   "cell_type": "code",
   "execution_count": 42,
   "metadata": {},
   "outputs": [
    {
     "data": {
      "text/html": [
       "<div>\n",
       "<style scoped>\n",
       "    .dataframe tbody tr th:only-of-type {\n",
       "        vertical-align: middle;\n",
       "    }\n",
       "\n",
       "    .dataframe tbody tr th {\n",
       "        vertical-align: top;\n",
       "    }\n",
       "\n",
       "    .dataframe thead th {\n",
       "        text-align: right;\n",
       "    }\n",
       "</style>\n",
       "<table border=\"1\" class=\"dataframe\">\n",
       "  <thead>\n",
       "    <tr style=\"text-align: right;\">\n",
       "      <th></th>\n",
       "      <th>Local</th>\n",
       "    </tr>\n",
       "    <tr>\n",
       "      <th>Local</th>\n",
       "      <th></th>\n",
       "    </tr>\n",
       "  </thead>\n",
       "  <tbody>\n",
       "    <tr>\n",
       "      <th>Asia</th>\n",
       "      <td>32398</td>\n",
       "    </tr>\n",
       "    <tr>\n",
       "      <th>ROW</th>\n",
       "      <td>124374</td>\n",
       "    </tr>\n",
       "  </tbody>\n",
       "</table>\n",
       "</div>"
      ],
      "text/plain": [
       "        Local\n",
       "Local        \n",
       "Asia    32398\n",
       "ROW    124374"
      ]
     },
     "execution_count": 42,
     "metadata": {},
     "output_type": "execute_result"
    }
   ],
   "source": [
    "data.groupby(\"Local\").agg({\"Local\":np.size})"
   ]
  },
  {
   "cell_type": "code",
   "execution_count": 41,
   "metadata": {},
   "outputs": [
    {
     "data": {
      "text/html": [
       "<div>\n",
       "<style scoped>\n",
       "    .dataframe tbody tr th:only-of-type {\n",
       "        vertical-align: middle;\n",
       "    }\n",
       "\n",
       "    .dataframe tbody tr th {\n",
       "        vertical-align: top;\n",
       "    }\n",
       "\n",
       "    .dataframe thead th {\n",
       "        text-align: right;\n",
       "    }\n",
       "</style>\n",
       "<table border=\"1\" class=\"dataframe\">\n",
       "  <thead>\n",
       "    <tr style=\"text-align: right;\">\n",
       "      <th></th>\n",
       "      <th>Number_Incidents</th>\n",
       "      <th>Average_kills</th>\n",
       "    </tr>\n",
       "    <tr>\n",
       "      <th>Local</th>\n",
       "      <th></th>\n",
       "      <th></th>\n",
       "    </tr>\n",
       "  </thead>\n",
       "  <tbody>\n",
       "    <tr>\n",
       "      <th>Asia</th>\n",
       "      <td>1462</td>\n",
       "      <td>8.127404</td>\n",
       "    </tr>\n",
       "    <tr>\n",
       "      <th>ROW</th>\n",
       "      <td>3309</td>\n",
       "      <td>11.511403</td>\n",
       "    </tr>\n",
       "  </tbody>\n",
       "</table>\n",
       "</div>"
      ],
      "text/plain": [
       "       Number_Incidents  Average_kills\n",
       "Local                                 \n",
       "Asia               1462       8.127404\n",
       "ROW                3309      11.511403"
      ]
     },
     "execution_count": 41,
     "metadata": {},
     "output_type": "execute_result"
    }
   ],
   "source": [
    "data.query(\"suicide==1\").groupby('Local')[['Local','nkill']].agg({\"Local\":np.size,\"nkill\":np.mean}).rename(columns={\"Local\":'Number_Incidents',\"nkill\":'Average_kills'})"
   ]
  },
  {
   "cell_type": "code",
   "execution_count": 43,
   "metadata": {},
   "outputs": [
    {
     "data": {
      "text/plain": [
       "ROW     124374\n",
       "Asia     32398\n",
       "Name: Local, dtype: int64"
      ]
     },
     "execution_count": 43,
     "metadata": {},
     "output_type": "execute_result"
    }
   ],
   "source": [
    "data[\"Local\"].value_counts()"
   ]
  },
  {
   "cell_type": "code",
   "execution_count": 44,
   "metadata": {},
   "outputs": [
    {
     "data": {
      "text/html": [
       "<div>\n",
       "<style scoped>\n",
       "    .dataframe tbody tr th:only-of-type {\n",
       "        vertical-align: middle;\n",
       "    }\n",
       "\n",
       "    .dataframe tbody tr th {\n",
       "        vertical-align: top;\n",
       "    }\n",
       "\n",
       "    .dataframe thead th {\n",
       "        text-align: right;\n",
       "    }\n",
       "</style>\n",
       "<table border=\"1\" class=\"dataframe\">\n",
       "  <thead>\n",
       "    <tr style=\"text-align: right;\">\n",
       "      <th></th>\n",
       "      <th>RespondentID</th>\n",
       "      <th>Country</th>\n",
       "      <th>Salary</th>\n",
       "      <th>YearsCodedJob</th>\n",
       "      <th>OpenSource</th>\n",
       "      <th>Hobby</th>\n",
       "      <th>CompanySizeNumber</th>\n",
       "      <th>Remote</th>\n",
       "      <th>CareerSatisfaction</th>\n",
       "      <th>Datascientist</th>\n",
       "      <th>...</th>\n",
       "      <th>DevOps</th>\n",
       "      <th>Embedded developer</th>\n",
       "      <th>Graphic designer</th>\n",
       "      <th>Graphics programming</th>\n",
       "      <th>Machine learning specialist</th>\n",
       "      <th>Mobile developer</th>\n",
       "      <th>Quality assurance engineer</th>\n",
       "      <th>Systems administrator</th>\n",
       "      <th>Web developer</th>\n",
       "      <th></th>\n",
       "    </tr>\n",
       "  </thead>\n",
       "  <tbody>\n",
       "    <tr>\n",
       "      <th>0</th>\n",
       "      <td>3</td>\n",
       "      <td>United Kingdom</td>\n",
       "      <td>113750.0</td>\n",
       "      <td>20</td>\n",
       "      <td>1</td>\n",
       "      <td>1</td>\n",
       "      <td>10000.0</td>\n",
       "      <td>Not remote</td>\n",
       "      <td>8</td>\n",
       "      <td>0</td>\n",
       "      <td>...</td>\n",
       "      <td>0</td>\n",
       "      <td>0</td>\n",
       "      <td>0</td>\n",
       "      <td>0</td>\n",
       "      <td>0</td>\n",
       "      <td>0</td>\n",
       "      <td>0</td>\n",
       "      <td>0</td>\n",
       "      <td>0</td>\n",
       "      <td>NaN</td>\n",
       "    </tr>\n",
       "    <tr>\n",
       "      <th>1</th>\n",
       "      <td>15</td>\n",
       "      <td>United Kingdom</td>\n",
       "      <td>100000.0</td>\n",
       "      <td>20</td>\n",
       "      <td>0</td>\n",
       "      <td>1</td>\n",
       "      <td>5000.0</td>\n",
       "      <td>Remote</td>\n",
       "      <td>8</td>\n",
       "      <td>0</td>\n",
       "      <td>...</td>\n",
       "      <td>0</td>\n",
       "      <td>1</td>\n",
       "      <td>0</td>\n",
       "      <td>0</td>\n",
       "      <td>0</td>\n",
       "      <td>0</td>\n",
       "      <td>0</td>\n",
       "      <td>0</td>\n",
       "      <td>0</td>\n",
       "      <td>NaN</td>\n",
       "    </tr>\n",
       "    <tr>\n",
       "      <th>2</th>\n",
       "      <td>18</td>\n",
       "      <td>United States</td>\n",
       "      <td>130000.0</td>\n",
       "      <td>20</td>\n",
       "      <td>1</td>\n",
       "      <td>1</td>\n",
       "      <td>1000.0</td>\n",
       "      <td>Remote</td>\n",
       "      <td>9</td>\n",
       "      <td>0</td>\n",
       "      <td>...</td>\n",
       "      <td>1</td>\n",
       "      <td>1</td>\n",
       "      <td>0</td>\n",
       "      <td>0</td>\n",
       "      <td>0</td>\n",
       "      <td>0</td>\n",
       "      <td>1</td>\n",
       "      <td>0</td>\n",
       "      <td>1</td>\n",
       "      <td>NaN</td>\n",
       "    </tr>\n",
       "    <tr>\n",
       "      <th>3</th>\n",
       "      <td>19</td>\n",
       "      <td>United States</td>\n",
       "      <td>82500.0</td>\n",
       "      <td>3</td>\n",
       "      <td>0</td>\n",
       "      <td>1</td>\n",
       "      <td>10000.0</td>\n",
       "      <td>Not remote</td>\n",
       "      <td>5</td>\n",
       "      <td>0</td>\n",
       "      <td>...</td>\n",
       "      <td>0</td>\n",
       "      <td>0</td>\n",
       "      <td>0</td>\n",
       "      <td>0</td>\n",
       "      <td>0</td>\n",
       "      <td>0</td>\n",
       "      <td>0</td>\n",
       "      <td>0</td>\n",
       "      <td>1</td>\n",
       "      <td>NaN</td>\n",
       "    </tr>\n",
       "    <tr>\n",
       "      <th>4</th>\n",
       "      <td>26</td>\n",
       "      <td>United States</td>\n",
       "      <td>175000.0</td>\n",
       "      <td>16</td>\n",
       "      <td>0</td>\n",
       "      <td>1</td>\n",
       "      <td>10000.0</td>\n",
       "      <td>Not remote</td>\n",
       "      <td>7</td>\n",
       "      <td>0</td>\n",
       "      <td>...</td>\n",
       "      <td>0</td>\n",
       "      <td>0</td>\n",
       "      <td>0</td>\n",
       "      <td>0</td>\n",
       "      <td>0</td>\n",
       "      <td>0</td>\n",
       "      <td>0</td>\n",
       "      <td>0</td>\n",
       "      <td>1</td>\n",
       "      <td>NaN</td>\n",
       "    </tr>\n",
       "  </tbody>\n",
       "</table>\n",
       "<p>5 rows × 23 columns</p>\n",
       "</div>"
      ],
      "text/plain": [
       "   RespondentID         Country    Salary  YearsCodedJob  OpenSource  Hobby  \\\n",
       "0             3  United Kingdom  113750.0             20           1      1   \n",
       "1            15  United Kingdom  100000.0             20           0      1   \n",
       "2            18   United States  130000.0             20           1      1   \n",
       "3            19   United States   82500.0              3           0      1   \n",
       "4            26   United States  175000.0             16           0      1   \n",
       "\n",
       "   CompanySizeNumber      Remote  CareerSatisfaction  Datascientist  ...  \\\n",
       "0            10000.0  Not remote                   8              0  ...   \n",
       "1             5000.0      Remote                   8              0  ...   \n",
       "2             1000.0      Remote                   9              0  ...   \n",
       "3            10000.0  Not remote                   5              0  ...   \n",
       "4            10000.0  Not remote                   7              0  ...   \n",
       "\n",
       "   DevOps  Embedded developer  Graphic designer  Graphics programming  \\\n",
       "0       0                   0                 0                     0   \n",
       "1       0                   1                 0                     0   \n",
       "2       1                   1                 0                     0   \n",
       "3       0                   0                 0                     0   \n",
       "4       0                   0                 0                     0   \n",
       "\n",
       "   Machine learning specialist  Mobile developer  Quality assurance engineer  \\\n",
       "0                            0                 0                           0   \n",
       "1                            0                 0                           0   \n",
       "2                            0                 0                           1   \n",
       "3                            0                 0                           0   \n",
       "4                            0                 0                           0   \n",
       "\n",
       "   Systems administrator  Web developer        \n",
       "0                      0              0   NaN  \n",
       "1                      0              0   NaN  \n",
       "2                      0              1   NaN  \n",
       "3                      0              1   NaN  \n",
       "4                      0              1   NaN  \n",
       "\n",
       "[5 rows x 23 columns]"
      ]
     },
     "execution_count": 44,
     "metadata": {},
     "output_type": "execute_result"
    }
   ],
   "source": [
    "import pandas as pd\n",
    "from pandas import Series,DataFrame\n",
    "import numpy as np\n",
    "\n",
    "stack=pd.read_csv(\"C:/PyProj/stackoverflow.csv\",header=0,sep=',',na_values=[''],encoding=\"latin\")\n",
    "stack.head()"
   ]
  },
  {
   "cell_type": "code",
   "execution_count": 45,
   "metadata": {},
   "outputs": [
    {
     "data": {
      "text/plain": [
       "(6991, 23)"
      ]
     },
     "execution_count": 45,
     "metadata": {},
     "output_type": "execute_result"
    }
   ],
   "source": [
    "stack.shape"
   ]
  },
  {
   "cell_type": "code",
   "execution_count": 46,
   "metadata": {},
   "outputs": [
    {
     "data": {
      "text/plain": [
       "RespondentID                               0\n",
       "Country                                    0\n",
       "Salary                                     0\n",
       "YearsCodedJob                              0\n",
       "OpenSource                                 0\n",
       "Hobby                                      0\n",
       "CompanySizeNumber                         31\n",
       "Remote                                     0\n",
       "CareerSatisfaction                         0\n",
       "Datascientist                              0\n",
       "Database administrator                     0\n",
       "Desktop applications developer             0\n",
       "Developer with stats/math background       0\n",
       "DevOps                                     0\n",
       "Embedded developer                         0\n",
       "Graphic designer                           0\n",
       "Graphics programming                       0\n",
       "Machine learning specialist                0\n",
       "Mobile developer                           0\n",
       "Quality assurance engineer                 0\n",
       "Systems administrator                      0\n",
       "Web developer                              0\n",
       "                                        6991\n",
       "dtype: int64"
      ]
     },
     "execution_count": 46,
     "metadata": {},
     "output_type": "execute_result"
    }
   ],
   "source": [
    "stack.isnull().sum()"
   ]
  },
  {
   "cell_type": "code",
   "execution_count": 49,
   "metadata": {},
   "outputs": [
    {
     "data": {
      "text/plain": [
       "5"
      ]
     },
     "execution_count": 49,
     "metadata": {},
     "output_type": "execute_result"
    }
   ],
   "source": [
    "len(stack.Country.unique())"
   ]
  },
  {
   "cell_type": "code",
   "execution_count": 50,
   "metadata": {},
   "outputs": [
    {
     "data": {
      "text/plain": [
       "43"
      ]
     },
     "execution_count": 50,
     "metadata": {},
     "output_type": "execute_result"
    }
   ],
   "source": [
    "stack.query(\"Country=='India' and Datascientist==1\").shape[0]"
   ]
  },
  {
   "cell_type": "code",
   "execution_count": 52,
   "metadata": {},
   "outputs": [
    {
     "data": {
      "text/plain": [
       "718"
      ]
     },
     "execution_count": 52,
     "metadata": {},
     "output_type": "execute_result"
    }
   ],
   "source": [
    "stack.query(\"Remote=='Remote'\").shape[0]"
   ]
  },
  {
   "cell_type": "code",
   "execution_count": 53,
   "metadata": {},
   "outputs": [
    {
     "data": {
      "text/plain": [
       "181"
      ]
     },
     "execution_count": 53,
     "metadata": {},
     "output_type": "execute_result"
    }
   ],
   "source": [
    "stack.query(\"Country=='Germany' and YearsCodedJob >10\").shape[0]"
   ]
  },
  {
   "cell_type": "code",
   "execution_count": 57,
   "metadata": {},
   "outputs": [
    {
     "data": {
      "text/html": [
       "<div>\n",
       "<style scoped>\n",
       "    .dataframe tbody tr th:only-of-type {\n",
       "        vertical-align: middle;\n",
       "    }\n",
       "\n",
       "    .dataframe tbody tr th {\n",
       "        vertical-align: top;\n",
       "    }\n",
       "\n",
       "    .dataframe thead th {\n",
       "        text-align: right;\n",
       "    }\n",
       "</style>\n",
       "<table border=\"1\" class=\"dataframe\">\n",
       "  <thead>\n",
       "    <tr style=\"text-align: right;\">\n",
       "      <th></th>\n",
       "      <th>Country</th>\n",
       "      <th>Salary</th>\n",
       "    </tr>\n",
       "  </thead>\n",
       "  <tbody>\n",
       "    <tr>\n",
       "      <th>4</th>\n",
       "      <td>United States</td>\n",
       "      <td>98313.127654</td>\n",
       "    </tr>\n",
       "    <tr>\n",
       "      <th>0</th>\n",
       "      <td>Canada</td>\n",
       "      <td>58226.407451</td>\n",
       "    </tr>\n",
       "    <tr>\n",
       "      <th>3</th>\n",
       "      <td>United Kingdom</td>\n",
       "      <td>53962.871808</td>\n",
       "    </tr>\n",
       "    <tr>\n",
       "      <th>1</th>\n",
       "      <td>Germany</td>\n",
       "      <td>52405.823429</td>\n",
       "    </tr>\n",
       "    <tr>\n",
       "      <th>2</th>\n",
       "      <td>India</td>\n",
       "      <td>11557.674529</td>\n",
       "    </tr>\n",
       "  </tbody>\n",
       "</table>\n",
       "</div>"
      ],
      "text/plain": [
       "          Country        Salary\n",
       "4   United States  98313.127654\n",
       "0          Canada  58226.407451\n",
       "3  United Kingdom  53962.871808\n",
       "1         Germany  52405.823429\n",
       "2           India  11557.674529"
      ]
     },
     "execution_count": 57,
     "metadata": {},
     "output_type": "execute_result"
    }
   ],
   "source": [
    "stack.groupby(\"Country\", as_index=False).agg({\"Salary\":np.mean}).sort_values(\"Salary\", ascending=False)"
   ]
  },
  {
   "cell_type": "code",
   "execution_count": 59,
   "metadata": {},
   "outputs": [
    {
     "data": {
      "text/html": [
       "<div>\n",
       "<style scoped>\n",
       "    .dataframe tbody tr th:only-of-type {\n",
       "        vertical-align: middle;\n",
       "    }\n",
       "\n",
       "    .dataframe tbody tr th {\n",
       "        vertical-align: top;\n",
       "    }\n",
       "\n",
       "    .dataframe thead th {\n",
       "        text-align: right;\n",
       "    }\n",
       "</style>\n",
       "<table border=\"1\" class=\"dataframe\">\n",
       "  <thead>\n",
       "    <tr style=\"text-align: right;\">\n",
       "      <th></th>\n",
       "      <th>Country</th>\n",
       "    </tr>\n",
       "    <tr>\n",
       "      <th>Country</th>\n",
       "      <th></th>\n",
       "    </tr>\n",
       "  </thead>\n",
       "  <tbody>\n",
       "    <tr>\n",
       "      <th>Canada</th>\n",
       "      <td>43</td>\n",
       "    </tr>\n",
       "    <tr>\n",
       "      <th>Germany</th>\n",
       "      <td>49</td>\n",
       "    </tr>\n",
       "    <tr>\n",
       "      <th>India</th>\n",
       "      <td>66</td>\n",
       "    </tr>\n",
       "    <tr>\n",
       "      <th>United Kingdom</th>\n",
       "      <td>85</td>\n",
       "    </tr>\n",
       "    <tr>\n",
       "      <th>United States</th>\n",
       "      <td>475</td>\n",
       "    </tr>\n",
       "  </tbody>\n",
       "</table>\n",
       "</div>"
      ],
      "text/plain": [
       "                Country\n",
       "Country                \n",
       "Canada               43\n",
       "Germany              49\n",
       "India                66\n",
       "United Kingdom       85\n",
       "United States       475"
      ]
     },
     "execution_count": 59,
     "metadata": {},
     "output_type": "execute_result"
    }
   ],
   "source": [
    "stack.query(\"Remote=='Remote'\").groupby(\"Country\").agg({\"Country\":np.size})"
   ]
  },
  {
   "cell_type": "code",
   "execution_count": 64,
   "metadata": {},
   "outputs": [
    {
     "data": {
      "text/plain": [
       "0.19396366757259334"
      ]
     },
     "execution_count": 64,
     "metadata": {},
     "output_type": "execute_result"
    }
   ],
   "source": [
    "stack[stack[\"Mobile developer\"] == 1].shape[0]/stack.shape[0]"
   ]
  },
  {
   "cell_type": "code",
   "execution_count": 65,
   "metadata": {},
   "outputs": [
    {
     "data": {
      "text/plain": [
       "0.7240738091832356"
      ]
     },
     "execution_count": 65,
     "metadata": {},
     "output_type": "execute_result"
    }
   ],
   "source": [
    "stack[stack[\"Web developer\"] == 1].shape[0]/stack.shape[0]"
   ]
  },
  {
   "cell_type": "code",
   "execution_count": 69,
   "metadata": {},
   "outputs": [
    {
     "data": {
      "text/plain": [
       "115"
      ]
     },
     "execution_count": 69,
     "metadata": {},
     "output_type": "execute_result"
    }
   ],
   "source": [
    "stack[(stack[\"Web developer\"] == 1) & (stack[\"Mobile developer\"] == 1) & (stack[\"Remote\"]==\"Remote\") ].shape[0]"
   ]
  },
  {
   "cell_type": "code",
   "execution_count": 73,
   "metadata": {},
   "outputs": [
    {
     "data": {
      "text/html": [
       "<div>\n",
       "<style scoped>\n",
       "    .dataframe tbody tr th:only-of-type {\n",
       "        vertical-align: middle;\n",
       "    }\n",
       "\n",
       "    .dataframe tbody tr th {\n",
       "        vertical-align: top;\n",
       "    }\n",
       "\n",
       "    .dataframe thead th {\n",
       "        text-align: right;\n",
       "    }\n",
       "</style>\n",
       "<table border=\"1\" class=\"dataframe\">\n",
       "  <thead>\n",
       "    <tr style=\"text-align: right;\">\n",
       "      <th></th>\n",
       "      <th>Country</th>\n",
       "      <th>Salary</th>\n",
       "      <th>YearsCodedJob</th>\n",
       "    </tr>\n",
       "  </thead>\n",
       "  <tbody>\n",
       "    <tr>\n",
       "      <th>4</th>\n",
       "      <td>United States</td>\n",
       "      <td>197000.0000</td>\n",
       "      <td>8.397877</td>\n",
       "    </tr>\n",
       "    <tr>\n",
       "      <th>3</th>\n",
       "      <td>United Kingdom</td>\n",
       "      <td>193750.0000</td>\n",
       "      <td>7.315748</td>\n",
       "    </tr>\n",
       "    <tr>\n",
       "      <th>2</th>\n",
       "      <td>India</td>\n",
       "      <td>163134.7967</td>\n",
       "      <td>3.696697</td>\n",
       "    </tr>\n",
       "    <tr>\n",
       "      <th>0</th>\n",
       "      <td>Canada</td>\n",
       "      <td>151515.1515</td>\n",
       "      <td>7.523425</td>\n",
       "    </tr>\n",
       "    <tr>\n",
       "      <th>1</th>\n",
       "      <td>Germany</td>\n",
       "      <td>140000.0000</td>\n",
       "      <td>7.058947</td>\n",
       "    </tr>\n",
       "  </tbody>\n",
       "</table>\n",
       "</div>"
      ],
      "text/plain": [
       "          Country       Salary  YearsCodedJob\n",
       "4   United States  197000.0000       8.397877\n",
       "3  United Kingdom  193750.0000       7.315748\n",
       "2           India  163134.7967       3.696697\n",
       "0          Canada  151515.1515       7.523425\n",
       "1         Germany  140000.0000       7.058947"
      ]
     },
     "execution_count": 73,
     "metadata": {},
     "output_type": "execute_result"
    }
   ],
   "source": [
    "stack.groupby(\"Country\", as_index=False).agg({\"Salary\":np.max, \"YearsCodedJob\":np.mean}).sort_values(\"Salary\", ascending=False)"
   ]
  },
  {
   "cell_type": "code",
   "execution_count": 74,
   "metadata": {},
   "outputs": [
    {
     "data": {
      "text/plain": [
       "Medium    4305\n",
       "High      1530\n",
       "Low       1156\n",
       "Name: Company_label, dtype: int64"
      ]
     },
     "execution_count": 74,
     "metadata": {},
     "output_type": "execute_result"
    }
   ],
   "source": [
    "def func(x):\n",
    "    if x<20:\n",
    "        return \"Low\"\n",
    "    elif x>=20 and x<=1000:\n",
    "        return \"Medium\"\n",
    "    else:\n",
    "        return \"High\"\n",
    "\n",
    "stack[\"Company_label\"]=stack[\"CompanySizeNumber\"].map(func)\n",
    "stack[\"Company_label\"].value_counts()"
   ]
  },
  {
   "cell_type": "code",
   "execution_count": 75,
   "metadata": {},
   "outputs": [
    {
     "data": {
      "text/plain": [
       "0    5862\n",
       "1    1129\n",
       "Name: label, dtype: int64"
      ]
     },
     "execution_count": 75,
     "metadata": {},
     "output_type": "execute_result"
    }
   ],
   "source": [
    "def get_label(x):\n",
    "    if x[\"Datascientist\"]==1 or x[\"Machine learning specialist\"]==1 or x[\"Developer with stats/math background\"]==1:\n",
    "        return 1\n",
    "    else:\n",
    "        return 0\n",
    "    \n",
    "stack[\"label\"]=stack.apply(get_label,axis=1)\n",
    "stack[\"label\"].value_counts()"
   ]
  },
  {
   "cell_type": "code",
   "execution_count": null,
   "metadata": {},
   "outputs": [],
   "source": []
  }
 ],
 "metadata": {
  "kernelspec": {
   "display_name": "Python 3",
   "language": "python",
   "name": "python3"
  },
  "language_info": {
   "codemirror_mode": {
    "name": "ipython",
    "version": 3
   },
   "file_extension": ".py",
   "mimetype": "text/x-python",
   "name": "python",
   "nbconvert_exporter": "python",
   "pygments_lexer": "ipython3",
   "version": "3.7.3"
  }
 },
 "nbformat": 4,
 "nbformat_minor": 2
}
